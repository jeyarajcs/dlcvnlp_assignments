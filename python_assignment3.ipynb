{
 "cells": [
  {
   "cell_type": "markdown",
   "metadata": {},
   "source": [
    "Q1.  Write a Python Program to implement your own myreduce() function which works exactly \n",
    "like Python's built-in function reduce()"
   ]
  },
  {
   "cell_type": "code",
   "execution_count": 6,
   "metadata": {},
   "outputs": [
    {
     "name": "stdout",
     "output_type": "stream",
     "text": [
      "21\n",
      "21\n",
      "\n",
      "\n"
     ]
    }
   ],
   "source": [
    "def myreduce(function, iterable, initializer=None):\n",
    "    iterablex = iter(iterable) # The iter() function creates an object which can be iterated one element at a time.\n",
    "    if initializer is None:\n",
    "        try:\n",
    "            initializer = next(iterablex) # we converted as iterable\n",
    "        except StopIteration:\n",
    "            raise TypeError('no initial value provided')\n",
    "    accum_value = initializer\n",
    "    for x in iterablex:\n",
    "        accum_value = function(accum_value, x)\n",
    "    return accum_value\n",
    "\n",
    "def sum(x,y):\n",
    "    return x+y\n",
    "\n",
    "print(myreduce(sum, [1,2,3,4,5,6])) # Normal function\n",
    "print(myreduce(lambda x,y: x+y, [1,2,3,4,5,6])) # using lambda function\n",
    "print('\\n')"
   ]
  },
  {
   "cell_type": "markdown",
   "metadata": {},
   "source": [
    "Q2. Write a Python program to implement your own myfilter() function which works exactly \n",
    "like Python's built-in function filter()"
   ]
  },
  {
   "cell_type": "code",
   "execution_count": 12,
   "metadata": {},
   "outputs": [
    {
     "name": "stdout",
     "output_type": "stream",
     "text": [
      "[90, 76, 88, 81]\n",
      "[90, 76, 88, 81]\n",
      "\n",
      "\n"
     ]
    }
   ],
   "source": [
    "def myfilter(function, iterable):\n",
    "    return [item for item in iterable if function(item)]\n",
    "\n",
    "scores = [66, 90, 68, 59, 76, 60, 88, 74, 81, 65]\n",
    "\n",
    "def pass_mark(score):\n",
    "    return score > 75\n",
    "\n",
    "print(list(myfilter(pass_mark, scores))) # normal function\n",
    "print(list(myfilter(lambda x: x>75, scores))) # using lambda function\n",
    "print('\\n')"
   ]
  },
  {
   "cell_type": "markdown",
   "metadata": {},
   "source": [
    "Q3. Implement List comprehensions to produce the following lists. \n",
    "Write List comprehensions to produce the following Lists  \n",
    "['A', 'C', 'A', 'D', 'G', 'I', ’L’, ‘ D’]  \n",
    "['x', 'xx', 'xxx', 'xxxx', 'y', 'yy', 'yyy', 'yyyy', 'z', 'zz', 'zzz', 'zzzz']   \n",
    "['x', 'y', 'z', 'xx', 'yy', 'zz', 'xxx', 'yyy', 'zzz', 'xxxx', 'yyyy', 'zzzz']   \n",
    "[[2], [3], [4], [3], [4], [5], [4], [5], [6]]  \n",
    "[[2, 3, 4, 5], [3, 4, 5, 6], \n",
    "[4, 5, 6, 7], [5, 6, 7, 8]]  \n",
    "[(1, 1), (2, 1), (3, 1), (1, 2), (2, 2), (3, 2), (1, 3), (2, 3), (3, 3)]"
   ]
  },
  {
   "cell_type": "code",
   "execution_count": 62,
   "metadata": {},
   "outputs": [
    {
     "name": "stdout",
     "output_type": "stream",
     "text": [
      "['A', 'C', 'A', 'D', 'G', 'I', 'L', 'D']\n",
      "\n",
      "\n"
     ]
    }
   ],
   "source": [
    "list1 = \"ACADGILD\"\n",
    "print([letter for letter in list1])\n",
    "print('\\n')"
   ]
  },
  {
   "cell_type": "code",
   "execution_count": 63,
   "metadata": {},
   "outputs": [
    {
     "name": "stdout",
     "output_type": "stream",
     "text": [
      "['x', 'xx', 'xxx', 'xxxx', 'y', 'yy', 'yyy', 'yyyy', 'z', 'zz', 'zzz', 'zzzz']\n",
      "\n",
      "\n"
     ]
    }
   ],
   "source": [
    "list2 = \"xyz\"\n",
    "list_range = range(1,5)\n",
    "print([i*j for i in list2 for j in list_range])\n",
    "print('\\n')"
   ]
  },
  {
   "cell_type": "code",
   "execution_count": 64,
   "metadata": {},
   "outputs": [
    {
     "name": "stdout",
     "output_type": "stream",
     "text": [
      "['x', 'y', 'z', 'xx', 'yy', 'zz', 'xx', 'yy', 'zz', 'xxxx', 'yyyy', 'zzzz']\n",
      "\n",
      "\n"
     ]
    }
   ],
   "source": [
    "list_3 = ['x','y','z']\n",
    "print([k*j*i for i in range(1,3) for j in range(1,3) for k in list_3])\n",
    "print('\\n')"
   ]
  },
  {
   "cell_type": "code",
   "execution_count": 65,
   "metadata": {},
   "outputs": [
    {
     "name": "stdout",
     "output_type": "stream",
     "text": [
      "[[2], [3], [4], [3], [4], [5], [4], [5], [6]]\n",
      "\n",
      "\n"
     ]
    }
   ],
   "source": [
    "print([[i+j] for i in range(2,5) for j in range(3)])\n",
    "print('\\n')"
   ]
  },
  {
   "cell_type": "code",
   "execution_count": 66,
   "metadata": {},
   "outputs": [
    {
     "name": "stdout",
     "output_type": "stream",
     "text": [
      "[[2, 3, 4, 5], [3, 4, 5, 6], [4, 5, 6, 7], [5, 6, 7, 8]]\n",
      "\n",
      "\n"
     ]
    }
   ],
   "source": [
    "print([[i+j for i in range(2,6)] for j in range(4)])\n",
    "print('\\n')"
   ]
  },
  {
   "cell_type": "code",
   "execution_count": 61,
   "metadata": {},
   "outputs": [
    {
     "name": "stdout",
     "output_type": "stream",
     "text": [
      "[(1, 1), (1, 2), (1, 3), (2, 1), (2, 2), (2, 3), (3, 1), (3, 2), (3, 3)]\n"
     ]
    }
   ],
   "source": [
    "list_x = [1,2,3]\n",
    "list_y = [1,2,3]\n",
    "print([(x,y) for x in list_x for y in list_y])"
   ]
  }
 ],
 "metadata": {
  "kernelspec": {
   "display_name": "Python 3",
   "language": "python",
   "name": "python3"
  },
  "language_info": {
   "codemirror_mode": {
    "name": "ipython",
    "version": 3
   },
   "file_extension": ".py",
   "mimetype": "text/x-python",
   "name": "python",
   "nbconvert_exporter": "python",
   "pygments_lexer": "ipython3",
   "version": "3.7.6"
  }
 },
 "nbformat": 4,
 "nbformat_minor": 4
}
